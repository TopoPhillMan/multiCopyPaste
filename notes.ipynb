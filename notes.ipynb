{
 "cells": [
  {
   "attachments": {},
   "cell_type": "markdown",
   "metadata": {},
   "source": [
    "Basic blocks required for oporation\n"
   ]
  },
  {
   "cell_type": "code",
   "execution_count": 4,
   "metadata": {},
   "outputs": [],
   "source": [
    "import pynput\n",
    "\n",
    "list = [\"1 apple\",\"2 apple\",\"3 apple\",]\n",
    "\n",
    "def on_scroll(x, y, dx, dy):\n",
    "    listCounter = 0\n",
    "\n",
    "    if dy > 0:\n",
    "        listCounter += 1\n",
    "    else: \n",
    "        listCounter -= 1\n",
    "\n",
    "    print(list[listCounter])\n",
    "\n",
    "\n",
    "listener = pynput.mouse.Listener(\n",
    "    on_scroll=on_scroll)\n",
    "listener.start()"
   ]
  }
 ],
 "metadata": {
  "kernelspec": {
   "display_name": "Python 3",
   "language": "python",
   "name": "python3"
  },
  "language_info": {
   "codemirror_mode": {
    "name": "ipython",
    "version": 3
   },
   "file_extension": ".py",
   "mimetype": "text/x-python",
   "name": "python",
   "nbconvert_exporter": "python",
   "pygments_lexer": "ipython3",
   "version": "3.10.6"
  },
  "orig_nbformat": 4,
  "vscode": {
   "interpreter": {
    "hash": "916dbcbb3f70747c44a77c7bcd40155683ae19c65e1c03b4aa3499c5328201f1"
   }
  }
 },
 "nbformat": 4,
 "nbformat_minor": 2
}
